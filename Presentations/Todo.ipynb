{
 "cells": [
  {
   "cell_type": "markdown",
   "metadata": {},
   "source": [
    "- Ca40 theory curves\n",
    "- Plot Ca40 data on curve to see where it fits\n",
    "\n",
    "- Theoretical curves w/o T1 decay\n",
    "\n",
    "- Bright fidelity vs time\n",
    "- Dark fidelity vs time\n",
    "- Optimal time vs collection efficiency (different slopes depending on dark count/camera) (0 and 1)\n",
    "- Fidelity at optimal time vs collection efficiency (0 and 1)"
   ]
  }
 ],
 "metadata": {
  "language_info": {
   "name": "python"
  }
 },
 "nbformat": 4,
 "nbformat_minor": 2
}
