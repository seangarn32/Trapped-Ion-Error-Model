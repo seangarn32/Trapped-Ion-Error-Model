{
 "cells": [
  {
   "cell_type": "markdown",
   "metadata": {},
   "source": [
    "- Ca40 theory curves\n",
    "- Plot Ca40 data on curve to see where it fits"
   ]
  }
 ],
 "metadata": {
  "language_info": {
   "name": "python"
  }
 },
 "nbformat": 4,
 "nbformat_minor": 2
}
