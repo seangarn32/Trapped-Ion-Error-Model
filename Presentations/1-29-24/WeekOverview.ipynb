{
 "cells": [
  {
   "cell_type": "markdown",
   "metadata": {},
   "source": [
    "- Was very confused last week\n",
    "- Graphed theoretical curves of B0(n) and D0(n) prepared in |B> state\n",
    "    - |D> state is much more complex"
   ]
  }
 ],
 "metadata": {
  "language_info": {
   "name": "python"
  }
 },
 "nbformat": 4,
 "nbformat_minor": 2
}
