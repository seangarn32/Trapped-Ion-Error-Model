{
 "cells": [
  {
   "cell_type": "markdown",
   "metadata": {},
   "source": [
    "- trapped ion error model"
   ]
  },
  {
   "cell_type": "markdown",
   "metadata": {},
   "source": [
    "- want an idea of how long we have to detect quantum states"
   ]
  }
 ],
 "metadata": {
  "language_info": {
   "name": "python"
  }
 },
 "nbformat": 4,
 "nbformat_minor": 2
}
