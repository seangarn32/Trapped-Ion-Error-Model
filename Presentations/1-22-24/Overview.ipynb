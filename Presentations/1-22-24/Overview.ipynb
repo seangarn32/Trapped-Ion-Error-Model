{
 "cells": [
  {
   "cell_type": "markdown",
   "metadata": {},
   "source": [
    "- Theoretical curves w/o T1 decay\n",
    "\n",
    "- Bright fidelity vs time\n",
    "- Dark fidelity vs time\n",
    "- Optimal time vs collection efficiency (different slopes depending on dark count/camera) (0 and 1)\n",
    "- Fidelity at optimal time vs collection efficiency (0 and 1)"
   ]
  }
 ],
 "metadata": {
  "kernelspec": {
   "display_name": "Python 3",
   "language": "python",
   "name": "python3"
  },
  "language_info": {
   "name": "python",
   "version": "3.9.13"
  }
 },
 "nbformat": 4,
 "nbformat_minor": 2
}
