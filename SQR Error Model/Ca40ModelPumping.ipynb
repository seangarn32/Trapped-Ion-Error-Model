{
 "cells": [
  {
   "cell_type": "code",
   "execution_count": 16,
   "metadata": {},
   "outputs": [
    {
     "name": "stdout",
     "output_type": "stream",
     "text": [
      "[(b'', b'', 99.99 ,  145., '1.168', '1')\n",
      " (b'', b'', 99.925, 3000., '1.168', '1')\n",
      " (b'', b'', 99.991,  145., '1.168', '1')]\n"
     ]
    }
   ],
   "source": [
    "import numpy as np\n",
    "import matplotlib.pyplot as plt\n",
    "import scipy.stats as stats\n",
    "import scipy.special as spec\n",
    "import scipy.integrate as integrate\n",
    "import scipy.optimize as opt\n",
    "import matplotlib.animation as anime\n",
    "#data array\n",
    "\n",
    "#burrell data\n",
    "Experimental = np.array(\n",
    "                #burrell\n",
    "                [('burrell', 'C40+ optical', 99.99, 145, 1.168, 1), ('benhelm', 'C40+ optical', 99.925, 3000, 1.168, 1), ('myerson', 'C40+ optical', 99.991, 145, 1.168, 1),],\n",
    "\n",
    "            #fidelity the average is for the two states (burrell)\n",
    "            dtype=[('author', np.string_), ('ion', np.string_), ('fidelity', 'float'), ('readout time(us)', 'float'), ('coherence T1(s)', 'U8'), ('coherence T2(ms)','U8')])\n",
    "\n",
    "print(Experimental)"
   ]
  },
  {
   "cell_type": "code",
   "execution_count": 17,
   "metadata": {},
   "outputs": [
    {
     "data": {
      "text/plain": [
       "'In general, the rates for pumping between the qubit states will not be zero. For the\\ncalcium optical qubit the |B〉→|D〉 pumping rate remains negligible (section 4.3.3), but\\nthe rate of |D〉→|B〉pumping due to decay from the metastable D5/2 state is appreciable\\nat 1/τ where τ = 1.168(7) s is the average lifetime of the shelf state [138].\\nThe count distribution B0(n) for trials prepared in the |B〉 state remains Poisson \\ndistributed with mean (RB + RD)tb, but the distribution for trials initially prepared in\\nthe |D〉 state is modified to contain two terms:'"
      ]
     },
     "execution_count": 17,
     "metadata": {},
     "output_type": "execute_result"
    }
   ],
   "source": [
    "'''In general, the rates for pumping between the qubit states will not be zero. For the\n",
    "calcium optical qubit the |B〉→|D〉 pumping rate remains negligible (section 4.3.3), but\n",
    "the rate of |D〉→|B〉pumping due to decay from the metastable D5/2 state is appreciable\n",
    "at 1/τ where τ = 1.168(7) s is the average lifetime of the shelf state [138].\n",
    "The count distribution B0(n) for trials prepared in the |B〉 state remains Poisson \n",
    "distributed with mean (RB + RD)tb, but the distribution for trials initially prepared in\n",
    "the |D〉 state is modified to contain two terms:'''"
   ]
  },
  {
   "cell_type": "code",
   "execution_count": 18,
   "metadata": {},
   "outputs": [],
   "source": [
    "'''The number of counts n recorded in tb when an ion decays at a time t is Poisson distributed with mean λ(t)'''\n",
    "\n",
    "#functions\n",
    "\n",
    "def Bmean(RB, RD, tb):\n",
    "    x = (RB+RD)*tb\n",
    "    return x\n",
    "\n",
    "def Dmean(RD, tb):\n",
    "    x = RD*tb\n",
    "    return x\n",
    "\n",
    "def Bo(N, Bmean):\n",
    "    x = (np.power(Bmean,N)) * (np.exp(Bmean)) / spec.factorial(N)\n",
    "    return x    \n",
    "\n",
    "def Do(N, Dmean,RB,RD,tb,tau):\n",
    "    x = (np.e**(-tb/tau) * ((Dmean)**N) * (np.exp(Dmean)) / spec.factorial(N)) + Xo(N,RB,RD,tb,tau)\n",
    "    return x\n",
    "\n",
    "def Xo(N,RB,RD,tb,tau):\n",
    "    X0 = []\n",
    "    for n in N:\n",
    "        X0 = np.append(X0, (integrate.quad(X_integrand, RD*tb, (RB+RD)*tb, args=(n,RB,RD,tau,tb)))[0])\n",
    "    print(X0)\n",
    "    return X0\n",
    "\n",
    "def X_integrand(l,n,RB,RD,tau,tb):\n",
    "    return (1/(RB*tau))*np.exp((l-((RD+RB)*tb))/(RB*tau))*np.power(l,n)*np.exp(-l)/spec.factorial(n)\n"
   ]
  },
  {
   "cell_type": "code",
   "execution_count": 19,
   "metadata": {},
   "outputs": [
    {
     "name": "stdout",
     "output_type": "stream",
     "text": [
      "[1.27503729e-05 1.28058644e-05 1.28603218e-05 ... 1.10625419e-11\n",
      " 1.09750572e-11 1.08882441e-11]\n",
      "0.0\n"
     ]
    },
    {
     "data": {
      "text/plain": [
       "Text(0.5, 1.0, 'Count Probability with |D> to |B> Due to Decay at Bin Time 0.00042s')"
      ]
     },
     "execution_count": 19,
     "metadata": {},
     "output_type": "execute_result"
    },
    {
     "data": {
      "image/png": "[encoded data removed]",
      "text/plain": [
       "<Figure size 720x360 with 3 Axes>"
      ]
     },
     "metadata": {
      "needs_background": "light"
     },
     "output_type": "display_data"
    }
   ],
   "source": [
    "#Variables\n",
    "\n",
    "#Burrell quoted\n",
    "#RB = 55800 s−1\n",
    "#RD = 442 s−1\n",
    "#tb = 420 us = .00042\n",
    "\n",
    "#nc = diferentiation counts\n",
    "\n",
    "#n = counts\n",
    "nMax = 50\n",
    "#Bright state fluoresence rate\n",
    "Rb = 55800\n",
    "#Dark state fluoresence rate\n",
    "Rd = 442\n",
    "#bin time\n",
    "tb = .00042\n",
    "#tau decay time for Ca40\n",
    "tau = 1.167\n",
    "\n",
    "step = .01\n",
    "N = np.arange(start=0,stop=nMax,step=step)\n",
    "\n",
    "#Graphing\n",
    "Bmean = Bmean(Rb,Rd,tb)\n",
    "BM = np.full(np.int_(nMax/step),Bmean)\n",
    "Dmean = Dmean(Rd,tb)\n",
    "\n",
    "#n counts in tb from bright\n",
    "B0 = Bo(N,BM)\n",
    "#print(N)\n",
    "#print(B0)\n",
    "#n counts in tb from dark\n",
    "D0 = Do(N,Dmean,Rb,Rd,tb,tau)\n",
    "\n",
    "#B0 = B0/np.sum(B0)\n",
    "#D0 = D0/np.sum(D0)\n",
    "#count threshold\n",
    "nc = 0\n",
    "minDiff = np.abs(B0[0]-D0[0])\n",
    "for i, item in enumerate(B0):\n",
    "    diff = np.abs(B0[i]-D0[i])\n",
    "    #print(diff)\n",
    "    if(diff<minDiff):\n",
    "        nc = i\n",
    "        minDiff = diff\n",
    "nc=nc*step\n",
    "print(nc)\n",
    "\n",
    "fig = plt.figure(figsize=(10, 5))\n",
    "ax1 = fig.add_subplot(1, 1, 1)\n",
    "ax1.plot(N, B0, lw=0.75, c=\"r\", label = \"B0\")\n",
    "ax1.set_ylabel(\"Number of Events\")\n",
    "ax1.set_xlabel(\"n counts\")\n",
    "ax2 = plt.twinx(ax1)\n",
    "ax2.plot(N, D0, lw=0.75, c=\"b\", label = \"D0\")\n",
    "ax3 = plt.twinx(ax1)\n",
    "plt.vlines(nc, ymin=0, ymax=np.max(D0), colors='green', ls=':', lw=2, label='Optimum Threshold nc')\n",
    "ax1.legend(loc = 'upper right')\n",
    "ax2.legend(loc = 'upper left')\n",
    "ax3.legend(loc = 'upper center')\n",
    "plt.title(\"Count Probability with |D> to |B> Due to Decay at Bin Time \"+ str(tb)+\"s\")"
   ]
  },
  {
   "cell_type": "code",
   "execution_count": 20,
   "metadata": {},
   "outputs": [
    {
     "name": "stdout",
     "output_type": "stream",
     "text": [
      "(nan, nan)\n",
      "(0.0, 0.0)\n"
     ]
    },
    {
     "name": "stderr",
     "output_type": "stream",
     "text": [
      "C:\\Users\\SALAMA~1\\AppData\\Local\\Temp/ipykernel_9212/3892244636.py:23: RuntimeWarning: overflow encountered in power\n",
      "  return (1/(Rb*tau))*np.exp((l-((Rd+Rb)*tb))/(Rb*tau))*np.power(l,n)*np.exp(-l)/spec.factorial(n)\n",
      "C:\\Users\\SALAMA~1\\AppData\\Local\\Temp/ipykernel_9212/3892244636.py:23: RuntimeWarning: invalid value encountered in double_scalars\n",
      "  return (1/(Rb*tau))*np.exp((l-((Rd+Rb)*tb))/(Rb*tau))*np.power(l,n)*np.exp(-l)/spec.factorial(n)\n",
      "C:\\Users\\SALAMA~1\\AppData\\Local\\Temp/ipykernel_9212/3892244636.py:19: IntegrationWarning: The maximum number of subdivisions (50) has been achieved.\n",
      "  If increasing the limit yields no improvement it is advised to analyze \n",
      "  the integrand in order to determine the difficulties.  If the position of a \n",
      "  local difficulty can be determined (singularity, discontinuity) one will \n",
      "  probably gain from splitting up the interval and calling the integrator \n",
      "  on the subranges.  Perhaps a special-purpose integrator should be used.\n",
      "  return ((np.e**(-tb/tau)*((Dmean)**n)*(np.exp(Dmean)) / spec.factorial(n)) + (integrate.quad(X_integrand, Rd*tb, (Rb+Rd)*tb, args=(n,Rb,Rd,tau,tb)))[0])\n",
      "C:\\Users\\SALAMA~1\\AppData\\Local\\Temp/ipykernel_9212/3892244636.py:19: IntegrationWarning: The occurrence of roundoff error is detected, which prevents \n",
      "  the requested tolerance from being achieved.  The error may be \n",
      "  underestimated.\n",
      "  return ((np.e**(-tb/tau)*((Dmean)**n)*(np.exp(Dmean)) / spec.factorial(n)) + (integrate.quad(X_integrand, Rd*tb, (Rb+Rd)*tb, args=(n,Rb,Rd,tau,tb)))[0])\n",
      "C:\\Users\\SALAMA~1\\AppData\\Local\\Temp/ipykernel_9212/3892244636.py:16: IntegrationWarning: The occurrence of roundoff error is detected, which prevents \n",
      "  the requested tolerance from being achieved.  The error may be \n",
      "  underestimated.\n",
      "  return integrate.quad(D_integrand, nc, np.inf, args=(Rd,Rb,tb,tau))\n"
     ]
    },
    {
     "data": {
      "text/plain": [
       "'\\ntb = np.arange(start=0,stop=tb,step=.00001)\\n#print(tb)\\n\\ndarkE = np.empty(0)\\nbrightE = np.empty(0)\\n\\n\\n\\nfor i in tb:\\n    darkE = np.append(darkE, ed(i)[0])\\nfor i in tb:\\n    brightE = np.append(brightE, eb(i)[0])\\n\\n#print(darkE)\\n\\nfig = plt.figure(figsize=(10, 5))\\nax1 = fig.add_subplot(1, 1, 1)\\nax1.plot(tb, darkE, lw=0.75, c=\"r\", label = \"D0\")\\nax1.set_ylabel(\"Error\")\\nax1.set_xlabel(\"Bin Time (s)\")\\nax2 = plt.twinx(ax1)\\nax2.plot(tb, brightE, lw=0.75, c=\"b\", label = \"B0\")\\nax1.legend(loc = \\'upper center\\')\\nax2.legend(loc = \\'upper left\\')\\n\\nplt.title(\"Dark and Bright Errors Finite Lifetime \")\\n'"
      ]
     },
     "execution_count": 20,
     "metadata": {},
     "output_type": "execute_result"
    }
   ],
   "source": [
    "#Optimal Time vs Collection Efficiency\n",
    "\n",
    "#Find error at a specific bin time and n count\n",
    "\n",
    "Rb = 55800\n",
    "Rd = 442\n",
    "#bin time\n",
    "tb = .00042\n",
    "#optimal count nc\n",
    "n = nc\n",
    "tau = 1.168 #s for Ca40\n",
    "\n",
    "\n",
    "#integrate D for n's @tb\n",
    "def ed(tb): \n",
    "    return integrate.quad(D_integrand, nc, np.inf, args=(Rd,Rb,tb,tau))\n",
    "\n",
    "def D_integrand(n,Rd,Rb,tb,tau):\n",
    "    return ((np.e**(-tb/tau)*((Dmean)**n)*(np.exp(Dmean)) / spec.factorial(n)) + (integrate.quad(X_integrand, Rd*tb, (Rb+Rd)*tb, args=(n,Rb,Rd,tau,tb)))[0])\n",
    "\n",
    "#integrate X for lambda's\n",
    "def X_integrand(l,n,Rb,Rd,tau,tb):\n",
    "    return (1/(Rb*tau))*np.exp((l-((Rd+Rb)*tb))/(Rb*tau))*np.power(l,n)*np.exp(-l)/spec.factorial(n)\n",
    "    \n",
    "#0 to nc w/ B0\n",
    "def eb(tb):\n",
    "    return integrate.quad(B_integrand, 0, nc, args=(Rb, Rd, tb))\n",
    "\n",
    "def B_integrand(n, Rb, Rd, tb):\n",
    "    return (np.power((Rb+Rd)*tb,n)) * (np.exp((Rb+Rd)*tb)) / spec.factorial(n)\n",
    "\n",
    "\n",
    "\n",
    "print(ed(tb))\n",
    "print(eb(tb))\n",
    "\n",
    "'''\n",
    "tb = np.arange(start=0,stop=tb,step=.00001)\n",
    "#print(tb)\n",
    "\n",
    "darkE = np.empty(0)\n",
    "brightE = np.empty(0)\n",
    "\n",
    "\n",
    "\n",
    "for i in tb:\n",
    "    darkE = np.append(darkE, ed(i)[0])\n",
    "for i in tb:\n",
    "    brightE = np.append(brightE, eb(i)[0])\n",
    "\n",
    "#print(darkE)\n",
    "\n",
    "fig = plt.figure(figsize=(10, 5))\n",
    "ax1 = fig.add_subplot(1, 1, 1)\n",
    "ax1.plot(tb, darkE, lw=0.75, c=\"r\", label = \"D0\")\n",
    "ax1.set_ylabel(\"Error\")\n",
    "ax1.set_xlabel(\"Bin Time (s)\")\n",
    "ax2 = plt.twinx(ax1)\n",
    "ax2.plot(tb, brightE, lw=0.75, c=\"b\", label = \"B0\")\n",
    "ax1.legend(loc = 'upper center')\n",
    "ax2.legend(loc = 'upper left')\n",
    "\n",
    "plt.title(\"Dark and Bright Errors Finite Lifetime \")\n",
    "'''"
   ]
  },
  {
   "cell_type": "code",
   "execution_count": null,
   "metadata": {},
   "outputs": [],
   "source": []
  }
 ],
 "metadata": {
  "kernelspec": {
   "display_name": "Python 3.9.12 ('base')",
   "language": "python",
   "name": "python3"
  },
  "language_info": {
   "codemirror_mode": {
    "name": "ipython",
    "version": 3
   },
   "file_extension": ".py",
   "mimetype": "text/x-python",
   "name": "python",
   "nbconvert_exporter": "python",
   "pygments_lexer": "ipython3",
   "version": "3.9.13"
  },
  "orig_nbformat": 4,
  "vscode": {
   "interpreter": {
    "hash": "ccf635cf6cf77b09d658aa738852457b7be98c7ee3718664893c4fd8441910db"
   }
  }
 },
 "nbformat": 4,
 "nbformat_minor": 2
}
