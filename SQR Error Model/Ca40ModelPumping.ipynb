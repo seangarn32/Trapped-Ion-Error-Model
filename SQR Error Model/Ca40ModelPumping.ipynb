{
 "cells": [
  {
   "cell_type": "code",
   "execution_count": 14,
   "metadata": {},
   "outputs": [
    {
     "name": "stdout",
     "output_type": "stream",
     "text": [
      "[(b'', b'', 99.99 ,  145., '1.168', '1')\n",
      " (b'', b'', 99.925, 3000., '1.168', '1')\n",
      " (b'', b'', 99.991,  145., '1.168', '1')]\n"
     ]
    }
   ],
   "source": [
    "import numpy as np\n",
    "import matplotlib.pyplot as plt\n",
    "import scipy.stats as stats\n",
    "import scipy.special as spec\n",
    "import scipy.integrate as integrate\n",
    "import scipy.optimize as opt\n",
    "import matplotlib.animation as anime\n",
    "#data array\n",
    "\n",
    "#burrell data\n",
    "Experimental = np.array(\n",
    "                #burrell\n",
    "                [('burrell', 'C40+ optical', 99.99, 145, 1.168, 1), ('benhelm', 'C40+ optical', 99.925, 3000, 1.168, 1), ('myerson', 'C40+ optical', 99.991, 145, 1.168, 1),],\n",
    "\n",
    "            #fidelity the average is for the two states (burrell)\n",
    "            dtype=[('author', np.string_), ('ion', np.string_), ('fidelity', 'float'), ('readout time(us)', 'float'), ('coherence T1(s)', 'U8'), ('coherence T2(ms)','U8')])\n",
    "\n",
    "print(Experimental)"
   ]
  },
  {
   "cell_type": "code",
   "execution_count": 15,
   "metadata": {},
   "outputs": [
    {
     "data": {
      "text/plain": [
       "'In general, the rates for pumping between the qubit states will not be zero. For the\\ncalcium optical qubit the |B〉→|D〉 pumping rate remains negligible (section 4.3.3), but\\nthe rate of |D〉→|B〉pumping due to decay from the metastable D5/2 state is appreciable\\nat 1/τ where τ = 1.168(7) s is the average lifetime of the shelf state [138].\\nThe count distribution B0(n) for trials prepared in the |B〉 state remains Poisson \\ndistributed with mean (RB + RD)tb, but the distribution for trials initially prepared in\\nthe |D〉 state is modified to contain two terms:'"
      ]
     },
     "execution_count": 15,
     "metadata": {},
     "output_type": "execute_result"
    }
   ],
   "source": [
    "'''In general, the rates for pumping between the qubit states will not be zero. For the\n",
    "calcium optical qubit the |B〉→|D〉 pumping rate remains negligible (section 4.3.3), but\n",
    "the rate of |D〉→|B〉pumping due to decay from the metastable D5/2 state is appreciable\n",
    "at 1/τ where τ = 1.168(7) s is the average lifetime of the shelf state [138].\n",
    "The count distribution B0(n) for trials prepared in the |B〉 state remains Poisson \n",
    "distributed with mean (RB + RD)tb, but the distribution for trials initially prepared in\n",
    "the |D〉 state is modified to contain two terms:'''"
   ]
  },
  {
   "cell_type": "code",
   "execution_count": 16,
   "metadata": {},
   "outputs": [],
   "source": [
    "'''The number of counts n recorded in tb when an ion decays at a time t is Poisson distributed with mean λ(t)'''\n",
    "\n",
    "#functions\n",
    "\n",
    "def Bmean(RB, RD, tb):\n",
    "    x = (RB+RD)*tb\n",
    "    return x\n",
    "\n",
    "def Dmean(RD, tb):\n",
    "    x = RD*tb\n",
    "    return x\n",
    "\n",
    "def Bo(N, Bmean):\n",
    "    x = (np.power(Bmean,N)) * (np.exp(Bmean)) / spec.factorial(N)\n",
    "    return x    \n",
    "\n",
    "def Do(Dmean,N,RB,RD,tb,tau):\n",
    "    x = (np.e**(-tb/tau) * ((Dmean)**N) * (np.exp(Dmean)) / spec.factorial(N)) + Xo(N,RB,RD,tb,tau)\n",
    "    return x\n",
    "\n",
    "def X_integrand(l,n,RB,RD,tau,tb):\n",
    "    return (1/(RB*tau))*np.exp((l-((RD+RB)*tb))/(RB*tau))*np.power(l,n)*np.exp(-l)/spec.factorial(n)\n",
    "\n",
    "def Xo(N,RB,RD,tb,tau):\n",
    "    X0 = []\n",
    "    for n in N:\n",
    "        X0 = np.append(X0, (integrate.quad(X_integrand, RD*tb, (RB+RD)*tb, args=(n,RB,RD,tau,tb)))[0])\n",
    "    return X0\n",
    "\n",
    "\n"
   ]
  },
  {
   "cell_type": "code",
   "execution_count": 17,
   "metadata": {},
   "outputs": [
    {
     "data": {
      "text/plain": [
       "Text(0.5, 1.0, 'Count Probability in a Given State')"
      ]
     },
     "execution_count": 17,
     "metadata": {},
     "output_type": "execute_result"
    },
    {
     "data": {
      "image/png": "[encoded data removed]",
      "text/plain": [
       "<Figure size 720x360 with 3 Axes>"
      ]
     },
     "metadata": {
      "needs_background": "light"
     },
     "output_type": "display_data"
    }
   ],
   "source": [
    "#Variables\n",
    "\n",
    "#Burrell quoted\n",
    "#RB = 55800 s−1\n",
    "#RD = 442 s−1\n",
    "#tb = 420 us = .00042\n",
    "#n = counts\n",
    "#nc = diferentiation counts\n",
    "\n",
    "n = 50\n",
    "\n",
    "#Bright state fluoresence rate\n",
    "Rb = 55800\n",
    "#Dark state fluoresence rate\n",
    "Rd = 442\n",
    "#bin time\n",
    "tb = .00032\n",
    "\n",
    "#tau is ?\n",
    "tau = .01\n",
    "# 0 <= t < tb time where ion decays\n",
    "t = tb/2\n",
    "l = Rd*tb+(Rb*(tb-t))\n",
    "\n",
    "step = .1\n",
    "N = np.arange(start=0,stop=n,step=step)\n",
    "\n",
    "#Graphing\n",
    "Bmean = Bmean(Rb,Rd,tb)\n",
    "BM = np.full(np.int_(n/step),Bmean)\n",
    "Dmean = Dmean(Rd,tb)\n",
    "DM = np.full(np.int_(n/step),Dmean)\n",
    "\n",
    "#n counts in tb from bright\n",
    "B0 = Bo(N,BM)\n",
    "\n",
    "#n counts in tb from dark\n",
    "D0 = Do(Dmean,N,Rb,Rd,tb,tau)\n",
    "\n",
    "#count threshold\n",
    "nc = 0\n",
    "#minDiff = B0[0]-D0[0]\n",
    "#for i, item in enumerate(B0):\n",
    "#    diff = B0[i]-D0[i]\n",
    "#    if(diff<minDiff):\n",
    "#        print(nc)\n",
    "#        nc = i\n",
    "#        minDiff = diff\n",
    "#print(B0)\n",
    "#print(D0)\n",
    "\n",
    "fig = plt.figure(figsize=(10, 5))\n",
    "ax1 = fig.add_subplot(1, 1, 1)\n",
    "ax1.plot(N, B0, lw=0.75, c=\"r\", label = \"B0\")\n",
    "ax1.set_ylabel(\"Number of Events\")\n",
    "ax1.set_xlabel(\"n counts\")\n",
    "ax2 = plt.twinx(ax1)\n",
    "ax2.plot(N, D0, lw=0.75, c=\"b\", label = \"D0\")\n",
    "ax3 = plt.twinx(ax1)\n",
    "plt.vlines(nc, ymin=0, ymax=np.max(D0), colors='green', ls=':', lw=2, label='Optimum Threshold nc')\n",
    "ax1.legend(loc = 'upper right')\n",
    "ax2.legend(loc = 'upper left')\n",
    "ax3.legend(loc = 'upper center')\n",
    "plt.title(\"Count Probability in a Given State\")"
   ]
  },
  {
   "cell_type": "code",
   "execution_count": 18,
   "metadata": {},
   "outputs": [
    {
     "data": {
      "text/plain": [
       "Text(0.5, 1.0, 'Dark and Bright Errors with Pumping')"
      ]
     },
     "execution_count": 18,
     "metadata": {},
     "output_type": "execute_result"
    },
    {
     "data": {
      "image/png": "[encoded data removed]",
      "text/plain": [
       "<Figure size 720x360 with 2 Axes>"
      ]
     },
     "metadata": {
      "needs_background": "light"
     },
     "output_type": "display_data"
    }
   ],
   "source": [
    "#Optimal Time vs Collection Efficiency\n",
    "\n",
    "#Integrate under the curves to find the error\n",
    "#Plot error vs tb\n",
    "\n",
    "Rb = 55800\n",
    "Rd = 442\n",
    "\n",
    "def D_integrand(n, Rd, tb):\n",
    "    return (np.power(Rd*tb,n)) * (np.exp(Rd*tb)) / spec.factorial(n)\n",
    "    \n",
    "#nc to inf w/ D0\n",
    "def ed(tb): \n",
    "    return integrate.quad(D_integrand, nc, np.inf, args=(Rd, tb))\n",
    "\n",
    "def B_integrand(n, Rb, Rd, tb):\n",
    "    return (np.power((Rb+Rd)*tb,n)) * (np.exp((Rb+Rd)*tb)) / spec.factorial(n)\n",
    "\n",
    "#0 to nc w/ B0\n",
    "def eb(tb):\n",
    "    return integrate.quad(B_integrand, 0, nc, args=(Rb, Rd, tb))\n",
    "\n",
    "#print(ed(.00032))\n",
    "#print(eb(.00032))\n",
    "\n",
    "tb = np.arange(start=0,stop=.001,step=.00001)\n",
    "#print(tb)\n",
    "\n",
    "darkE = np.empty(0)\n",
    "brightE = np.empty(0)\n",
    "\n",
    "for i in tb:\n",
    "    darkE = np.append(darkE, ed(i)[0])\n",
    "for i in tb:\n",
    "    brightE = np.append(brightE, eb(i)[0])\n",
    "\n",
    "#print(darkE)\n",
    "\n",
    "fig = plt.figure(figsize=(10, 5))\n",
    "ax1 = fig.add_subplot(1, 1, 1)\n",
    "ax1.plot(tb, darkE, lw=0.75, c=\"r\", label = \"D0\")\n",
    "ax1.set_ylabel(\"Error\")\n",
    "ax1.set_xlabel(\"Bin Time (s)\")\n",
    "ax2 = plt.twinx(ax1)\n",
    "ax2.plot(tb, brightE, lw=0.75, c=\"b\", label = \"B0\")\n",
    "ax1.legend(loc = 'upper center')\n",
    "ax2.legend(loc = 'upper left')\n",
    "\n",
    "plt.title(\"Dark and Bright Errors with Pumping\")"
   ]
  }
 ],
 "metadata": {
  "kernelspec": {
   "display_name": "Python 3.9.12 ('base')",
   "language": "python",
   "name": "python3"
  },
  "language_info": {
   "codemirror_mode": {
    "name": "ipython",
    "version": 3
   },
   "file_extension": ".py",
   "mimetype": "text/x-python",
   "name": "python",
   "nbconvert_exporter": "python",
   "pygments_lexer": "ipython3",
   "version": "3.9.13"
  },
  "orig_nbformat": 4,
  "vscode": {
   "interpreter": {
    "hash": "ccf635cf6cf77b09d658aa738852457b7be98c7ee3718664893c4fd8441910db"
   }
  }
 },
 "nbformat": 4,
 "nbformat_minor": 2
}
