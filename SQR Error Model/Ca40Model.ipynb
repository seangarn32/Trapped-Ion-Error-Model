{
 "cells": [
  {
   "cell_type": "code",
   "execution_count": 127,
   "metadata": {},
   "outputs": [
    {
     "name": "stdout",
     "output_type": "stream",
     "text": [
      "[(b'', b'', 99.99 ,  145., '1.168', '1')\n",
      " (b'', b'', 99.925, 3000., '1.168', '1')\n",
      " (b'', b'', 99.991,  145., '1.168', '1')]\n"
     ]
    }
   ],
   "source": [
    "import numpy as np\n",
    "import matplotlib.pyplot as plt\n",
    "import scipy.stats as stats\n",
    "import scipy.special as spec\n",
    "#data array\n",
    "\n",
    "#burrell data\n",
    "Experimental = np.array(\n",
    "                #burrell\n",
    "                [('burrell', 'C40+ optical', 99.99, 145, 1.168, 1), ('benhelm', 'C40+ optical', 99.925, 3000, 1.168, 1), ('myerson', 'C40+ optical', 99.991, 145, 1.168, 1),],\n",
    "\n",
    "            #fidelity the average is for the two states (burrell)\n",
    "            dtype=[('author', np.string_), ('ion', np.string_), ('fidelity', 'float'), ('readout time(us)', 'float'), ('coherence T1(s)', 'U8'), ('coherence T2(ms)','U8')])\n",
    "\n",
    "print(Experimental)"
   ]
  },
  {
   "cell_type": "code",
   "execution_count": 128,
   "metadata": {},
   "outputs": [],
   "source": [
    "#Model(prepared in |B> state)\n",
    "\n",
    "#functions\n",
    "def B_Bmean(RB, RD, tb):\n",
    "    x = (RB+RD)*tb\n",
    "    return x\n",
    "\n",
    "def B_Dmean(RD, tb):\n",
    "    x = RD*tb\n",
    "    return x\n",
    "\n",
    "def B_Bo(N, Bmean):\n",
    "    X = (np.power(Bmean,N)) * (np.exp(Bmean)) / spec.factorial(N)\n",
    "    return X\n",
    "\n",
    "def B_Do(N, Dmean):\n",
    "    X = (np.power(Dmean,N)) * (np.exp(Dmean)) / spec.factorial(N)\n",
    "    return X\n",
    "\n",
    "\n",
    "#eB = np.sum(B0) #for n<nc\n",
    "#eD = np.sum(D0) #for n>nc\n",
    "#e = (eB+eD)/2"
   ]
  },
  {
   "cell_type": "code",
   "execution_count": 129,
   "metadata": {},
   "outputs": [],
   "source": [
    "#Model(prepared in |D> state)\n",
    "\n",
    "#functions\n",
    "def nc(RB, RD, tb):\n",
    "    x = RB*tb/(np.log(1+(RB/RD)))\n",
    "    return x\n",
    "\n",
    "\n",
    "def D_Bmean(RB, RD, tb):\n",
    "    x = (RB+RD)*tb\n",
    "    return x\n",
    "\n",
    "def D_Dmean(RD, tb):\n",
    "    x = RD*tb\n",
    "    return x\n",
    "\n",
    "def D_Bo(N, Bmean):\n",
    "    x = (np.power(Bmean,N)) * (np.exp(Bmean)) / np.math.factorial(N)\n",
    "    return x\n",
    "\n",
    "#complicated\n",
    "#def D_Xo(n, Bweight, Dweight):\n",
    "#    x = D\n",
    "#    return x\n",
    "\n",
    "def D_Do(n, Dmean, tb, tau):\n",
    "    x = (np.e**(-tb/tau) * ((Dmean)**n) * (np.exp(Dmean)) / np.math.factorial(n)) + Xo\n",
    "    return x\n",
    "\n",
    "\n",
    "#eB = np.sum(B0) #for n<nc\n",
    "#eD = np.sum(D0) #for n>nc\n",
    "#e = (eB+eD)/2"
   ]
  },
  {
   "cell_type": "code",
   "execution_count": 130,
   "metadata": {},
   "outputs": [
    {
     "name": "stderr",
     "output_type": "stream",
     "text": [
      "C:\\Users\\SALAMA~1\\AppData\\Local\\Temp/ipykernel_8048/48227529.py:21: DeprecationWarning: `np.int` is a deprecated alias for the builtin `int`. To silence this warning, use `int` by itself. Doing this will not modify any behavior and is safe. When replacing `np.int`, you may wish to use e.g. `np.int64` or `np.int32` to specify the precision. If you wish to review your current use, check the release note link for additional information.\n",
      "Deprecated in NumPy 1.20; for more details and guidance: https://numpy.org/devdocs/release/1.20.0-notes.html#deprecations\n",
      "  DM = np.full(np.int(n/step),Dmean)\n",
      "No handles with labels found to put in legend.\n"
     ]
    },
    {
     "name": "stdout",
     "output_type": "stream",
     "text": [
      "[23.62164 23.62164 23.62164 23.62164 23.62164 23.62164 23.62164 23.62164\n",
      " 23.62164 23.62164 23.62164 23.62164 23.62164 23.62164 23.62164 23.62164\n",
      " 23.62164 23.62164 23.62164 23.62164 23.62164 23.62164 23.62164 23.62164\n",
      " 23.62164 23.62164 23.62164 23.62164 23.62164 23.62164 23.62164 23.62164\n",
      " 23.62164 23.62164 23.62164 23.62164 23.62164 23.62164 23.62164 23.62164\n",
      " 23.62164 23.62164 23.62164 23.62164 23.62164 23.62164 23.62164 23.62164\n",
      " 23.62164 23.62164 23.62164 23.62164 23.62164 23.62164 23.62164 23.62164\n",
      " 23.62164 23.62164 23.62164 23.62164]\n",
      "[1.81446212e+10 2.61660542e+10 3.71952439e+10 5.22060268e+10\n",
      " 7.24467909e+10 9.95079978e+10 1.35404132e+11 1.82672719e+11\n",
      " 2.44493477e+11 3.24831100e+11 4.28605709e+11 5.61895556e+11\n",
      " 7.32177218e+11 9.48609209e+11 1.22236572e+12 1.56702807e+12\n",
      " 1.99904228e+12 2.53825247e+12 3.20852050e+12 4.03844385e+12\n",
      " 5.06218489e+12 6.32042597e+12 7.86146666e+12 9.74248054e+12\n",
      " 1.20309513e+13 1.48063092e+13 1.81617912e+13 2.22065504e+13\n",
      " 2.70680415e+13 3.28947127e+13 3.98590363e+13 4.81609119e+13\n",
      " 5.80314798e+13 6.97373842e+13 8.35855294e+13 9.99283728e+13\n",
      " 1.19169804e+14 1.41771659e+14 1.68260929e+14 1.99237708e+14\n",
      " 2.35383952e+14 2.77473103e+14 3.26380649e+14 3.83095671e+14\n",
      " 4.48733474e+14 5.24549344e+14 6.11953522e+14 7.12527467e+14\n",
      " 8.28041478e+14 9.60473757e+14 1.11203099e+15 1.28517054e+15\n",
      " 1.48262427e+15 1.70742416e+15 1.96292974e+15 2.25285741e+15\n",
      " 2.58131175e+15 2.95281883e+15 3.37236167e+15 3.84541785e+15]\n"
     ]
    },
    {
     "data": {
      "text/plain": [
       "Text(0.5, 1.0, 'P(n) vs n')"
      ]
     },
     "execution_count": 130,
     "metadata": {},
     "output_type": "execute_result"
    },
    {
     "data": {
      "image/png": "[encoded data removed]",
      "text/plain": [
       "<Figure size 720x360 with 2 Axes>"
      ]
     },
     "metadata": {
      "needs_background": "light"
     },
     "output_type": "display_data"
    }
   ],
   "source": [
    "#Variables\n",
    "\n",
    "#Burrell quoted\n",
    "#RB = 55800 s−1\n",
    "#RD = 442 s−1\n",
    "#tb = 420 us = .00042\n",
    "#n = counts\n",
    "#nc = diferentiation counts\n",
    "\n",
    "n = 6\n",
    "\n",
    "Rb = 55800 \n",
    "Rd = 442\n",
    "tb = .00042\n",
    "step = .1\n",
    "N = np.arange(start=0,stop=n,step = step)\n",
    "\n",
    "Bmean = B_Bmean(Rb,Rd,tb)\n",
    "BM = np.full(np.int_(n/step),Bmean)\n",
    "Dmean = B_Dmean(Rd,tb)\n",
    "DM = np.full(np.int(n/step),Dmean)\n",
    "print(BM)\n",
    "#print(DM)\n",
    "B0 = B_Bo(N,BM)\n",
    "D0 = B_Do(N,DM)\n",
    "print(B0)\n",
    "#print(D0)\n",
    "\n",
    "fig = plt.figure(figsize=(10, 5))\n",
    "ax1 = fig.add_subplot(1, 1, 1)\n",
    "ax1.plot(N, B0, lw=0.75, c=\"r\")\n",
    "ax1.set_ylabel(\"P(n)\")\n",
    "ax1.set_xlabel(\"n\")\n",
    "ax2 = ax1.twinx()\n",
    "ax2.plot(N, D0, lw=0.75, c=\"b\")\n",
    "ax1.legend()\n",
    "plt.title(\"P(n) vs n\")"
   ]
  },
  {
   "cell_type": "code",
   "execution_count": 131,
   "metadata": {},
   "outputs": [
    {
     "data": {
      "image/png": "[encoded data removed]",
      "text/plain": [
       "<Figure size 720x360 with 1 Axes>"
      ]
     },
     "metadata": {
      "needs_background": "light"
     },
     "output_type": "display_data"
    }
   ],
   "source": [
    "#graphing\n",
    "fidelity = (Experimental['fidelity'])\n",
    "readTime = (Experimental['readout time(us)'])\n",
    "\n",
    "fig = plt.figure(figsize=(10, 5))\n",
    "ax1 = fig.add_subplot(1, 1, 1)\n",
    "plt.scatter(readTime, fidelity, lw=0.75, c=\"b\")\n",
    "ax1.set(xlim=(np.min(readTime), np.max(readTime)), ylim=(np.min(fidelity), 100))\n",
    "ax1.set_ylabel(\"Fidelity\")\n",
    "ax1.set_xlabel(u\"Readout Time (\\u03bcs)\")\n",
    "#ax1.legend()\n",
    "plt.title(\"Fidelity vs Readout Time\")\n",
    "\n",
    "plt.show()"
   ]
  }
 ],
 "metadata": {
  "kernelspec": {
   "display_name": "Python 3.9.12 ('base')",
   "language": "python",
   "name": "python3"
  },
  "language_info": {
   "codemirror_mode": {
    "name": "ipython",
    "version": 3
   },
   "file_extension": ".py",
   "mimetype": "text/x-python",
   "name": "python",
   "nbconvert_exporter": "python",
   "pygments_lexer": "ipython3",
   "version": "3.9.13"
  },
  "orig_nbformat": 4,
  "vscode": {
   "interpreter": {
    "hash": "ccf635cf6cf77b09d658aa738852457b7be98c7ee3718664893c4fd8441910db"
   }
  }
 },
 "nbformat": 4,
 "nbformat_minor": 2
}
