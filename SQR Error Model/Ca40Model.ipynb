{
 "cells": [
  {
   "cell_type": "code",
   "execution_count": 1,
   "metadata": {},
   "outputs": [
    {
     "name": "stdout",
     "output_type": "stream",
     "text": [
      "[(b'', b'', 99.99 ,  145., '1.168', '1')\n",
      " (b'', b'', 99.925, 3000., '1.168', '1')\n",
      " (b'', b'', 99.991,  145., '1.168', '1')]\n"
     ]
    }
   ],
   "source": [
    "import numpy as np\n",
    "import matplotlib.pyplot as plt\n",
    "import scipy.stats as stats\n",
    "#data array\n",
    "\n",
    "#burrell data\n",
    "Experimental = np.array(\n",
    "                #burrell\n",
    "                [('burrell', 'C40+ optical', 99.99, 145, 1.168, 1), ('benhelm', 'C40+ optical', 99.925, 3000, 1.168, 1), ('myerson', 'C40+ optical', 99.991, 145, 1.168, 1),],\n",
    "\n",
    "            #fidelity the average is for the two states (burrell)\n",
    "            dtype=[('author', np.string_), ('ion', np.string_), ('fidelity', 'float'), ('readout time(us)', 'float'), ('coherence T1(s)', 'U8'), ('coherence T2(ms)','U8')])\n",
    "\n",
    "print(Experimental)"
   ]
  },
  {
   "cell_type": "code",
   "execution_count": 2,
   "metadata": {},
   "outputs": [],
   "source": [
    "#Model(prepared in |B> state)\n",
    "\n",
    "#functions\n",
    "def B_Bmean(RB, RD, tb):\n",
    "    x = (RB+RD)*tb\n",
    "    return x\n",
    "\n",
    "def B_Dmean(RD, tb):\n",
    "    x = RD*tb\n",
    "    return x\n",
    "\n",
    "def B_Bo(n, Dmean):\n",
    "    x = ((Dmean)**n) * (np.e**Dmean) / np.math.factorial(n)\n",
    "    return x\n",
    "\n",
    "def B_Do(n, Dmean):\n",
    "    x = ((Dmean)**n) * (np.e**Dmean) / np.math.factorial(n)\n",
    "    return x\n",
    "\n",
    "\n",
    "#eB = np.sum(B0) #for n<nc\n",
    "#eD = np.sum(D0) #for n>nc\n",
    "#e = (eB+eD)/2"
   ]
  },
  {
   "cell_type": "code",
   "execution_count": 5,
   "metadata": {},
   "outputs": [],
   "source": [
    "#Model(prepared in |D> state)\n",
    "\n",
    "#functions\n",
    "def D_Bmean(RB, RD, tb):\n",
    "    x = (RB+RD)*tb\n",
    "    return x\n",
    "\n",
    "def D_Dmean(RD, tb):\n",
    "    x = RD*tb\n",
    "    return x\n",
    "\n",
    "def D_Bo(n, Dmean):\n",
    "    x = ((Dmean)**n) * (np.e**Dmean) / np.math.factorial(n)\n",
    "    return x\n",
    "\n",
    "#AAAAAHHHHHHHHHHHHHHHHH complicated\n",
    "#def D_Xo(n, Bweight, Dweight):\n",
    "#    x = D\n",
    "#    return x\n",
    "\n",
    "def D_Do(n, Dmean, tb, tau):\n",
    "    x = (np.e**(-tb/tau) * ((Dmean)**n) * (np.e**Dmean) / np.math.factorial(n)) + Xo\n",
    "    return x\n",
    "\n",
    "\n",
    "#eB = np.sum(B0) #for n<nc\n",
    "#eD = np.sum(D0) #for n>nc\n",
    "#e = (eB+eD)/2"
   ]
  },
  {
   "cell_type": "code",
   "execution_count": 4,
   "metadata": {},
   "outputs": [
    {
     "data": {
      "image/png": "[encoded data removed]",
      "text/plain": [
       "<Figure size 720x360 with 1 Axes>"
      ]
     },
     "metadata": {
      "needs_background": "light"
     },
     "output_type": "display_data"
    }
   ],
   "source": [
    "#graphing\n",
    "fidelity = (Experimental['fidelity'])\n",
    "readTime = (Experimental['readout time(us)'])\n",
    "\n",
    "fig = plt.figure(figsize=(10, 5))\n",
    "ax1 = fig.add_subplot(1, 1, 1)\n",
    "plt.scatter(readTime, fidelity, lw=0.75, c=\"b\")\n",
    "ax1.set(xlim=(np.min(readTime), np.max(readTime)), ylim=(np.min(fidelity), 100))\n",
    "ax1.set_ylabel(\"Fidelity\")\n",
    "ax1.set_xlabel(u\"Readout Time (\\u03bcs)\")\n",
    "#ax1.legend()\n",
    "plt.title(\"Fidelity vs Readout Time\")\n",
    "\n",
    "plt.show()"
   ]
  }
 ],
 "metadata": {
  "kernelspec": {
   "display_name": "Python 3.9.12 ('base')",
   "language": "python",
   "name": "python3"
  },
  "language_info": {
   "codemirror_mode": {
    "name": "ipython",
    "version": 3
   },
   "file_extension": ".py",
   "mimetype": "text/x-python",
   "name": "python",
   "nbconvert_exporter": "python",
   "pygments_lexer": "ipython3",
   "version": "3.9.13"
  },
  "orig_nbformat": 4,
  "vscode": {
   "interpreter": {
    "hash": "ccf635cf6cf77b09d658aa738852457b7be98c7ee3718664893c4fd8441910db"
   }
  }
 },
 "nbformat": 4,
 "nbformat_minor": 2
}
