{
 "cells": [
  {
   "cell_type": "code",
   "execution_count": 16,
   "metadata": {},
   "outputs": [
    {
     "name": "stdout",
     "output_type": "stream",
     "text": [
      "[(b'', b'', '99.99', '145', '1.168', '1')\n",
      " (b'', b'', '99.965', '11900', '21', '0')\n",
      " (b'', b'', '99.925', '3000', '1.168', '1')\n",
      " (b'', b'', '99.87', '10000', '35', '0.12')\n",
      " (b'', b'', '99.77', '2400', '1000', '1.2')]\n"
     ]
    }
   ],
   "source": [
    "import numpy as np\n",
    "import matplotlib as plt\n",
    "\n",
    "#data array\n",
    "\n",
    "#burrell data\n",
    "trappedIon = np.array([('burrell', 'C40+ optical', 99.99, 145, 1.168, 1), ('hume', 'Al27+ measurement via Be9+',99.965, 11900, 21,0),\n",
    "                ('benhelm', 'C40+ optical', 99.925, 3000, 1.168, 1), ('dietrich', 'Ba137+ optical',99.87, 10000, 35, .120),\n",
    "                ('myerson, lucas', 'C40+ ground-state', 99.77, 2400, 1000, 1.2),],\n",
    "\n",
    "            #fidelity the average is for the two states (burrell)\n",
    "            dtype=[('author', np.string_), ('ion', np.string_), ('fidelity', 'U8'), ('readout time(us)', 'U8'), ('coherence T1(s)', 'U8'), ('coherence T2(ms)','U8')])\n",
    "\n",
    "#myerson data\n",
    "myerson = np.array([('myerson', 'C40+ optical', 99.991, 145, 0,0)],dtype=[('author', np.string_), ('ion', np.string_), ('fidelity', 'U8'), ('readout time(us)', 'U8'), ('coherence T1(s)', 'U8'), ('coherence T2(ms)','U8')])\n",
    "np.append(trappedIon, myerson)\n",
    "\n",
    "print(trappedIon)"
   ]
  },
  {
   "cell_type": "code",
   "execution_count": 11,
   "metadata": {},
   "outputs": [
    {
     "data": {
      "text/plain": [
       "'fig = plt.figure(figsize=(15, 5))\\nax1 = fig.add_subplot(1, 1, 1)\\nax1.plot(wavenumber, atran, lw=0.75, c=\"r\", linestyle=\":\", label=\"Telluric (ATRAN)\")\\nax1.set_ylabel(r\"Flux (erg s$^{-1}$ cm$^{-2}$ sr$^{-1}$ cm$^{1}$)\")\\nax1.set_xlabel(r\"Wavenumber (cm$^{-1}$)\")\\nax1.set_xlim(min(wavenumber)+1, max(wavenumber)-1)\\nax1.set_ylim(-.1,.35)\\nplt.legend()\\nplt.title(\"HM Sge\")\\nplt.show()'"
      ]
     },
     "execution_count": 11,
     "metadata": {},
     "output_type": "execute_result"
    }
   ],
   "source": [
    "#graphing\n",
    "\n",
    "fidelity = trappedIon['fidelity']\n",
    "#Plot the whole spectrum\n",
    "'''fig = plt.figure(figsize=(15, 5))\n",
    "ax1 = fig.add_subplot(1, 1, 1)\n",
    "ax1.plot(wavenumber, atran, lw=0.75, c=\"r\", linestyle=\":\", label=\"Telluric (ATRAN)\")\n",
    "ax1.set_ylabel(r\"Flux (erg s$^{-1}$ cm$^{-2}$ sr$^{-1}$ cm$^{1}$)\")\n",
    "ax1.set_xlabel(r\"Wavenumber (cm$^{-1}$)\")\n",
    "ax1.set_xlim(min(wavenumber)+1, max(wavenumber)-1)\n",
    "ax1.set_ylim(-.1,.35)\n",
    "plt.legend()\n",
    "plt.title(\"HM Sge\")\n",
    "plt.show()'''"
   ]
  }
 ],
 "metadata": {
  "kernelspec": {
   "display_name": "Python 3.9.12 ('base')",
   "language": "python",
   "name": "python3"
  },
  "language_info": {
   "codemirror_mode": {
    "name": "ipython",
    "version": 3
   },
   "file_extension": ".py",
   "mimetype": "text/x-python",
   "name": "python",
   "nbconvert_exporter": "python",
   "pygments_lexer": "ipython3",
   "version": "3.9.12"
  },
  "orig_nbformat": 4,
  "vscode": {
   "interpreter": {
    "hash": "ccf635cf6cf77b09d658aa738852457b7be98c7ee3718664893c4fd8441910db"
   }
  }
 },
 "nbformat": 4,
 "nbformat_minor": 2
}
