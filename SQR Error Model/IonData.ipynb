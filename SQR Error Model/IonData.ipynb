{
 "cells": [
  {
   "cell_type": "code",
   "execution_count": 53,
   "metadata": {},
   "outputs": [
    {
     "name": "stdout",
     "output_type": "stream",
     "text": [
      "[(b'', b'', 99.99 ,   145., '1.168', '1')\n",
      " (b'', b'', 99.965, 11900., '21', '0')\n",
      " (b'', b'', 99.925,  3000., '1.168', '1')\n",
      " (b'', b'', 99.87 , 10000., '35', '0.12')\n",
      " (b'', b'', 99.4  , 15000., '1000', '0')\n",
      " (b'', b'', 99.   ,   200., '1000', '0')\n",
      " (b'', b'', 97.9  ,  1000., '1000', '2500')\n",
      " (b'', b'', 99.   ,   200., '1000', '0')\n",
      " (b'', b'', 99.991,   145., '0', '0')\n",
      " (b'', b'', 99.77 ,  2400., '1000', '1.2')]\n"
     ]
    }
   ],
   "source": [
    "import numpy as np\n",
    "import matplotlib.pyplot as plt\n",
    "import scipy as sci\n",
    "#data array\n",
    "\n",
    "#burrell data\n",
    "trappedIon = np.array(\n",
    "                #burrell\n",
    "                [('burrell', 'C40+ optical', 99.99, 145, 1.168, 1), ('hume', 'Al27+ measurement via Be9+',99.965, 11900, 21, 0),\n",
    "                ('benhelm', 'C40+ optical', 99.925, 3000, 1.168, 1), ('dietrich', 'Ba137+ optical',99.87, 10000, 35, .120),\n",
    "                ('acton', 'Cd111+ hyperfine ground state', 99.4, 15000, 1000, 0), ('monroe','Be9+',99,200,1000,0),\n",
    "                ('Olmshenk', 'Yb171+ hyperfine ground state', 97.9, 1000, 1000, 2500), ('Reichle','Be9+ hyperfine ground state',99,200,1000,0),\n",
    "                #myerson\n",
    "                ('myerson', 'C40+ optical', 99.991, 145, 0,0), ('myerson&lucas', 'C40+ ground-state', 99.77, 2400, 1000, 1.2)\n",
    "                \n",
    "                ],\n",
    "\n",
    "            #fidelity the average is for the two states (burrell)\n",
    "            dtype=[('author', np.string_), ('ion', np.string_), ('fidelity', 'float'), ('readout time(us)', 'float'), ('coherence T1(s)', 'U8'), ('coherence T2(ms)','U8')])\n",
    "\n",
    "print(trappedIon)"
   ]
  },
  {
   "cell_type": "code",
   "execution_count": 54,
   "metadata": {},
   "outputs": [
    {
     "data": {
      "image/png": "[encoded data removed]",
      "text/plain": [
       "<Figure size 720x360 with 1 Axes>"
      ]
     },
     "metadata": {
      "needs_background": "light"
     },
     "output_type": "display_data"
    }
   ],
   "source": [
    "#graphing\n",
    "\n",
    "fidelity = (trappedIon['fidelity'])\n",
    "\n",
    "readTime = (trappedIon['readout time(us)'])\n",
    "\n",
    "\n",
    "fig = plt.figure(figsize=(10, 5))\n",
    "ax1 = fig.add_subplot(1, 1, 1)\n",
    "plt.scatter(readTime, fidelity, lw=0.75, c=\"b\")\n",
    "ax1.set(xlim=(np.min(readTime), np.max(readTime)), ylim=(np.min(fidelity), 100))\n",
    "ax1.set_ylabel(\"Fidelity\")\n",
    "ax1.set_xlabel(u\"Readout Time (\\u03bcs)\")\n",
    "#ax1.set_xlim()\n",
    "#ax1.set_ylim()\n",
    "#ax1.legend()\n",
    "plt.title(\"Fidelity vs Readout Time\")\n",
    "\n",
    "plt.show()"
   ]
  }
 ],
 "metadata": {
  "kernelspec": {
   "display_name": "Python 3.9.12 ('base')",
   "language": "python",
   "name": "python3"
  },
  "language_info": {
   "codemirror_mode": {
    "name": "ipython",
    "version": 3
   },
   "file_extension": ".py",
   "mimetype": "text/x-python",
   "name": "python",
   "nbconvert_exporter": "python",
   "pygments_lexer": "ipython3",
   "version": "3.9.12"
  },
  "orig_nbformat": 4,
  "vscode": {
   "interpreter": {
    "hash": "ccf635cf6cf77b09d658aa738852457b7be98c7ee3718664893c4fd8441910db"
   }
  }
 },
 "nbformat": 4,
 "nbformat_minor": 2
}
