{
 "cells": [
  {
   "cell_type": "code",
   "execution_count": 33,
   "metadata": {},
   "outputs": [],
   "source": [
    "import numpy as np\n",
    "import matplotlib.pyplot as plt\n",
    "import scipy.stats as stats\n",
    "import scipy.special as spec\n",
    "import scipy.integrate as integrate\n",
    "import scipy.optimize as opt"
   ]
  },
  {
   "cell_type": "code",
   "execution_count": 34,
   "metadata": {},
   "outputs": [],
   "source": [
    "\n",
    "#Average of bright and dark counts\n",
    "def brightDistrobution(Rb, Rd, tb):\n",
    "    x = (Rb+Rd)*tb\n",
    "    return x\n",
    "\n",
    "#Dark counts\n",
    "def darkDistrobution(Rd, tb):\n",
    "    x = Rd*tb\n",
    "    return x\n",
    "\n",
    "#Bright state detection event Poisson distribution\n",
    "def Bo(N, Bmean):\n",
    "    X = (np.power(Bmean,N)) * (np.exp(-1*Bmean)) / spec.factorial(N)\n",
    "    return X\n",
    "\n",
    "#Dark state Poisson distribution + extra events due to decay from bright to dark as time increases\n",
    "def Do(N, Dmean,Rb,Rd,tb,tau):\n",
    "    X = (np.exp(-1*tb/tau)*(np.power(Dmean,N))*(np.exp(-1*Dmean)) / spec.factorial(N)) + Xo(N,Rb,Rd,tb,tau)\n",
    "    return X\n",
    "\n",
    "#Decay term X naught\n",
    "def Xo(N,RB,RD,tb,tau):\n",
    "    X0 = []\n",
    "    for n in N:\n",
    "        X0 = np.append(X0, (integrate.quad(X_integrand, RD*tb, (RB+RD)*tb, args=(n,RB,RD,tau,tb)))[0])\n",
    "    return X0\n",
    "\n",
    "#Integrand to be integrated over all lambdas, where lambda(t) is the mean of the poisson distrobution of the number of counts (n) recorded in bin time (tb) when an ion decays at time t (0 < t < tb)\n",
    "def X_integrand(l,n,RB,RD,tau,tb):\n",
    "    return (1/(RB*tau))*np.exp((l-((RD+RB)*tb))/(RB*tau))*np.power(l,n)*np.exp(-1*l)/spec.factorial(n)"
   ]
  },
  {
   "cell_type": "markdown",
   "metadata": {},
   "source": [
    "![alt text](LambdaFunction.PNG)"
   ]
  },
  {
   "cell_type": "markdown",
   "metadata": {},
   "source": [
    "![alt text](NoDecay.PNG)"
   ]
  },
  {
   "cell_type": "code",
   "execution_count": 35,
   "metadata": {},
   "outputs": [],
   "source": [
    "\n",
    "#Discrete integrand under the curve of D naught right of the critical count nc (distinguishing point between bright and dark state)\n",
    "def errorD(Rb,Rd,tb,N,tau): \n",
    "    return np.sum(((np.power(Rd*tb,N)) * (np.exp(-1*(Rd*tb))) / spec.factorial(N)) + Xo(N,Rb,Rd,tb,tau))\n",
    "\n",
    "#Discrete integrand under the curve of B naught to be integrated left of the critical count nc\n",
    "def errorB(Rb,Rd,tb,NB):\n",
    "    return np.sum((np.power((Rb+Rd)*tb,NB)) * (np.exp(-1*((Rb+Rd)*tb))) / spec.factorial(NB))"
   ]
  },
  {
   "cell_type": "markdown",
   "metadata": {},
   "source": [
    "![alt text](AndorSpecTable.png)"
   ]
  },
  {
   "cell_type": "code",
   "execution_count": 36,
   "metadata": {},
   "outputs": [],
   "source": [
    "#Model Settings\n",
    "nMax = 60 #Max number of detection counts we want to consider\n",
    "tbMax = .001 #Max bin time we want to consider in s\n",
    "nStep = .01 #n granularity (realistically 1 -- there is or isn't a count event, no partial events)\n",
    "tStep = .00001 #time granularity in s (affects curve accuracy)\n",
    "tbUnits = 1000000 #model uses seconds, conversion for graphing us\n",
    "\n",
    "#Real Variables\n",
    "tau = 1.167 #tau = bright state decay time in s (for Ca40 ions)\n",
    "freq = 10**7 #emission freqency s^-1\n",
    "colEff = np.array([.005, .01, .015]) #collection efficiency\n",
    "RB = freq*colEff/2 #Bright state fluoresence rate in s^-1\n",
    "Rd = 1000 #Detector Dark Counts\n",
    "#DarkCounts  = np.arange(start=0,stop=5001,step=500)"
   ]
  },
  {
   "cell_type": "code",
   "execution_count": 37,
   "metadata": {},
   "outputs": [],
   "source": [
    "#Array of possible detection counts\n",
    "N = np.arange(start=0,stop=nMax,step=nStep)\n",
    "#Bin times we're considering\n",
    "BT = np.arange(start=0,stop=tbMax,step=tStep)\n",
    "BrightEArrays =[]\n",
    "DarkEArrays = []\n",
    "AvgEArrays = []\n",
    "#Different cameras/setups have different dark count rates (Rd)\n",
    "for Rb in RB:\n",
    "    #For each potential bin time, the ideal count cutoff (nc) between a dark and bright detection is determined\n",
    "    darkE = np.empty(0)\n",
    "    brightE = np.empty(0)\n",
    "\n",
    "    for tb in BT:\n",
    "        Bmean = brightDistrobution(Rb,Rd,tb)\n",
    "        BM = np.full(np.int_(nMax/nStep),Bmean) \n",
    "        Dmean = darkDistrobution(Rd,tb)\n",
    "        DM = np.full(np.int_(nMax/nStep),Dmean)\n",
    "\n",
    "        #n counts in tb from bright\n",
    "        B0 = Bo(N,BM) #Poisson distro\n",
    "        #n counts in tb from dark\n",
    "        D0 = Do(N,DM,Rb,Rd,tb,tau) #Poisson distro + decay\n",
    "\n",
    "        #determine count threshold nc\n",
    "        nc = 0\n",
    "        lastDiff = np.abs(B0[0]-D0[0])\n",
    "        for i, item in enumerate(B0):\n",
    "            diff = (B0[i]-D0[i])\n",
    "            nc = i\n",
    "            if((diff>lastDiff) and diff>0):\n",
    "                break\n",
    "            lastDiff = diff\n",
    "        nc=nc*nStep\n",
    "\n",
    "        NB = N[np.where(N<=nc)] #Integral range for eB\n",
    "        ND = N[np.where(N>=nc)] #Integral range for eD\n",
    "\n",
    "        brightE = np.append(brightE, errorB(Rb,Rd,tb,NB))\n",
    "        darkE = np.append(darkE, errorD(Rb,Rd,tb,ND,tau))\n",
    "    BrightEArrays.append(brightE.tolist())\n",
    "    DarkEArrays.append(darkE.tolist())\n",
    "    avgE = (darkE+brightE)/2\n",
    "    AvgEArrays.append(avgE.tolist())\n",
    "#print(eArrays)"
   ]
  },
  {
   "cell_type": "code",
   "execution_count": 38,
   "metadata": {},
   "outputs": [
    {
     "data": {
      "text/plain": [
       "Text(0.5, 1.0, 'Fidelity at Different Collection Efficiencies')"
      ]
     },
     "execution_count": 38,
     "metadata": {},
     "output_type": "execute_result"
    },
    {
     "data": {
      "image/png": "[encoded data removed]",
      "text/plain": [
       "<Figure size 720x360 with 1 Axes>"
      ]
     },
     "metadata": {
      "needs_background": "light"
     },
     "output_type": "display_data"
    }
   ],
   "source": [
    "#Plotting the average fidelity as a function of col eff\n",
    "fig = plt.figure(figsize=(10, 5))\n",
    "ax1 = fig.add_subplot(1, 1, 1)\n",
    "colors = ['r','g','b']\n",
    "#for Y in BrightEArrays:\n",
    "#    ax1.plot(BT*1000000, 100*(1-np.array(Y)), lw=0.75, c=\"r\", label = \"|1> Fidelity\" )\n",
    "#for Y in DarkEArrays:\n",
    "#    ax1.plot(BT*1000000, 100*(1-np.array(Y)), lw=0.75, c=\"b\", label = \"|0> Fidelity\")\n",
    "for i, Y in enumerate(AvgEArrays):\n",
    "    ax1.plot(BT*tbUnits, 100*(1-np.array(Y)), lw=0.75, c=colors[i], label = str(200*RB[i]/freq)+\"%\")\n",
    "ax1.set_ylabel(\"Fidelity %\")\n",
    "ax1.set_xlabel(\"Bin Time (us)\")\n",
    "ax1.set_xlim(0,tbMax*tbUnits)\n",
    "ax1.set_ylim(90,101)\n",
    "ax1.legend(title = \"Collection Efficiencies\")\n",
    "plt.title(\"Fidelity at Different Collection Efficiencies\")"
   ]
  }
 ],
 "metadata": {
  "kernelspec": {
   "display_name": "Python 3",
   "language": "python",
   "name": "python3"
  },
  "language_info": {
   "codemirror_mode": {
    "name": "ipython",
    "version": 3
   },
   "file_extension": ".py",
   "mimetype": "text/x-python",
   "name": "python",
   "nbconvert_exporter": "python",
   "pygments_lexer": "ipython3",
   "version": "3.9.13"
  }
 },
 "nbformat": 4,
 "nbformat_minor": 2
}
